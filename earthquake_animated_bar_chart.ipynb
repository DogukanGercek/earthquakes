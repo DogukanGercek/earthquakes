{
 "cells": [
  {
   "cell_type": "code",
   "execution_count": 1,
   "outputs": [],
   "source": [
    "import pandas as pd\n",
    "import bar_chart_race as bcr"
   ],
   "metadata": {
    "collapsed": false,
    "pycharm": {
     "name": "#%%\n"
    }
   }
  },
  {
   "cell_type": "code",
   "execution_count": 12,
   "outputs": [
    {
     "data": {
      "text/plain": "17823.0"
     },
     "execution_count": 12,
     "metadata": {},
     "output_type": "execute_result"
    }
   ],
   "source": [
    "df = pd.read_csv(\"en_sonki_data.csv\",index_col=\"Year\")\n",
    "df.drop(\"Search Parameters\",axis=1, inplace=True)\n",
    "df.drop(\"Unnamed: 0\",axis=1, inplace=True)\n",
    "df = df.iloc[1: , :]\n",
    "df[[\"Continent\", \"Deaths\"]][\"Deaths\"].sum()\n"
   ],
   "metadata": {
    "collapsed": false,
    "pycharm": {
     "name": "#%%\n"
    }
   }
  },
  {
   "cell_type": "code",
   "execution_count": 10,
   "outputs": [
    {
     "data": {
      "text/plain": "Year    Continent    \n2015.0  Africa              3.0\n        Asia             9508.0\n        Europe              2.0\n        North America       2.0\n        Not found           4.0\n        Oceania             0.0\n        South America      11.0\n2016.0  Africa             32.0\n        Asia              301.0\n        Europe            310.0\n        North America       1.0\n        Not found           4.0\n        Oceania             3.0\n        South America     677.0\n2017.0  Africa              3.0\n        Asia              706.0\n        Europe             37.0\n        North America     480.0\n        Not found           2.0\n        Oceania             3.0\n        South America       4.0\n2018.0  Africa              7.0\n        Asia             5027.0\n        Europe              5.0\n        North America      32.0\n        Not found           0.0\n        Oceania           186.0\n        South America      10.0\n2019.0  Africa              1.0\n        Asia              192.0\n        Europe             56.0\n        North America       1.0\n        Not found           1.0\n        Oceania             0.0\n        South America       9.0\n2020.0  Asia               61.0\n        Europe            126.0\n        North America      14.0\n        Not found           0.0\n        Oceania             1.0\n        South America       1.0\nName: Deaths, dtype: float64"
     },
     "execution_count": 10,
     "metadata": {},
     "output_type": "execute_result"
    }
   ],
   "source": [
    "df1 = pd.DataFrame(df.groupby([\"Year\",\"Continent\"])[\"Deaths\"].sum())\n",
    "# df1 = pd.DataFrame(columns= df.groupby([\"Year\",\"Continent\"])[\"Deaths\"].sum(), )\n",
    "# bcr.bar_chart_race(df=df.groupby([\"Year\",\"Continent\"])[\"Deaths\"].sum(),\n",
    "# df1.transpose()\n",
    "df.groupby([\"Year\",\"Continent\"])[\"Deaths\"].sum()"
   ],
   "metadata": {
    "collapsed": false,
    "pycharm": {
     "name": "#%%\n"
    }
   }
  },
  {
   "cell_type": "code",
   "execution_count": 71,
   "outputs": [
    {
     "data": {
      "text/plain": "      Year      Continent  Deaths\n0   2015.0         Africa     3.0\n1   2015.0           Asia  9508.0\n2   2015.0         Europe     2.0\n3   2015.0  North America     2.0\n4   2015.0      Not found     4.0\n5   2015.0        Oceania     0.0\n6   2015.0  South America    11.0\n7   2016.0         Africa    32.0\n8   2016.0           Asia   301.0\n9   2016.0         Europe   310.0\n10  2016.0  North America     1.0\n11  2016.0      Not found     4.0\n12  2016.0        Oceania     3.0\n13  2016.0  South America   677.0\n14  2017.0         Africa     3.0\n15  2017.0           Asia   706.0\n16  2017.0         Europe    37.0\n17  2017.0  North America   480.0\n18  2017.0      Not found     2.0\n19  2017.0        Oceania     3.0\n20  2017.0  South America     4.0\n21  2018.0         Africa     7.0\n22  2018.0           Asia  5027.0\n23  2018.0         Europe     5.0\n24  2018.0  North America    32.0\n25  2018.0      Not found     0.0\n26  2018.0        Oceania   186.0\n27  2018.0  South America    10.0\n28  2019.0         Africa     1.0\n29  2019.0           Asia   192.0\n30  2019.0         Europe    56.0\n31  2019.0  North America     1.0\n32  2019.0      Not found     1.0\n33  2019.0        Oceania     0.0\n34  2019.0  South America     9.0\n35  2020.0           Asia    61.0\n36  2020.0         Europe   126.0\n37  2020.0  North America    14.0\n38  2020.0      Not found     0.0\n39  2020.0        Oceania     1.0\n40  2020.0  South America     1.0",
      "text/html": "<div>\n<style scoped>\n    .dataframe tbody tr th:only-of-type {\n        vertical-align: middle;\n    }\n\n    .dataframe tbody tr th {\n        vertical-align: top;\n    }\n\n    .dataframe thead th {\n        text-align: right;\n    }\n</style>\n<table border=\"1\" class=\"dataframe\">\n  <thead>\n    <tr style=\"text-align: right;\">\n      <th></th>\n      <th>Year</th>\n      <th>Continent</th>\n      <th>Deaths</th>\n    </tr>\n  </thead>\n  <tbody>\n    <tr>\n      <th>0</th>\n      <td>2015.0</td>\n      <td>Africa</td>\n      <td>3.0</td>\n    </tr>\n    <tr>\n      <th>1</th>\n      <td>2015.0</td>\n      <td>Asia</td>\n      <td>9508.0</td>\n    </tr>\n    <tr>\n      <th>2</th>\n      <td>2015.0</td>\n      <td>Europe</td>\n      <td>2.0</td>\n    </tr>\n    <tr>\n      <th>3</th>\n      <td>2015.0</td>\n      <td>North America</td>\n      <td>2.0</td>\n    </tr>\n    <tr>\n      <th>4</th>\n      <td>2015.0</td>\n      <td>Not found</td>\n      <td>4.0</td>\n    </tr>\n    <tr>\n      <th>5</th>\n      <td>2015.0</td>\n      <td>Oceania</td>\n      <td>0.0</td>\n    </tr>\n    <tr>\n      <th>6</th>\n      <td>2015.0</td>\n      <td>South America</td>\n      <td>11.0</td>\n    </tr>\n    <tr>\n      <th>7</th>\n      <td>2016.0</td>\n      <td>Africa</td>\n      <td>32.0</td>\n    </tr>\n    <tr>\n      <th>8</th>\n      <td>2016.0</td>\n      <td>Asia</td>\n      <td>301.0</td>\n    </tr>\n    <tr>\n      <th>9</th>\n      <td>2016.0</td>\n      <td>Europe</td>\n      <td>310.0</td>\n    </tr>\n    <tr>\n      <th>10</th>\n      <td>2016.0</td>\n      <td>North America</td>\n      <td>1.0</td>\n    </tr>\n    <tr>\n      <th>11</th>\n      <td>2016.0</td>\n      <td>Not found</td>\n      <td>4.0</td>\n    </tr>\n    <tr>\n      <th>12</th>\n      <td>2016.0</td>\n      <td>Oceania</td>\n      <td>3.0</td>\n    </tr>\n    <tr>\n      <th>13</th>\n      <td>2016.0</td>\n      <td>South America</td>\n      <td>677.0</td>\n    </tr>\n    <tr>\n      <th>14</th>\n      <td>2017.0</td>\n      <td>Africa</td>\n      <td>3.0</td>\n    </tr>\n    <tr>\n      <th>15</th>\n      <td>2017.0</td>\n      <td>Asia</td>\n      <td>706.0</td>\n    </tr>\n    <tr>\n      <th>16</th>\n      <td>2017.0</td>\n      <td>Europe</td>\n      <td>37.0</td>\n    </tr>\n    <tr>\n      <th>17</th>\n      <td>2017.0</td>\n      <td>North America</td>\n      <td>480.0</td>\n    </tr>\n    <tr>\n      <th>18</th>\n      <td>2017.0</td>\n      <td>Not found</td>\n      <td>2.0</td>\n    </tr>\n    <tr>\n      <th>19</th>\n      <td>2017.0</td>\n      <td>Oceania</td>\n      <td>3.0</td>\n    </tr>\n    <tr>\n      <th>20</th>\n      <td>2017.0</td>\n      <td>South America</td>\n      <td>4.0</td>\n    </tr>\n    <tr>\n      <th>21</th>\n      <td>2018.0</td>\n      <td>Africa</td>\n      <td>7.0</td>\n    </tr>\n    <tr>\n      <th>22</th>\n      <td>2018.0</td>\n      <td>Asia</td>\n      <td>5027.0</td>\n    </tr>\n    <tr>\n      <th>23</th>\n      <td>2018.0</td>\n      <td>Europe</td>\n      <td>5.0</td>\n    </tr>\n    <tr>\n      <th>24</th>\n      <td>2018.0</td>\n      <td>North America</td>\n      <td>32.0</td>\n    </tr>\n    <tr>\n      <th>25</th>\n      <td>2018.0</td>\n      <td>Not found</td>\n      <td>0.0</td>\n    </tr>\n    <tr>\n      <th>26</th>\n      <td>2018.0</td>\n      <td>Oceania</td>\n      <td>186.0</td>\n    </tr>\n    <tr>\n      <th>27</th>\n      <td>2018.0</td>\n      <td>South America</td>\n      <td>10.0</td>\n    </tr>\n    <tr>\n      <th>28</th>\n      <td>2019.0</td>\n      <td>Africa</td>\n      <td>1.0</td>\n    </tr>\n    <tr>\n      <th>29</th>\n      <td>2019.0</td>\n      <td>Asia</td>\n      <td>192.0</td>\n    </tr>\n    <tr>\n      <th>30</th>\n      <td>2019.0</td>\n      <td>Europe</td>\n      <td>56.0</td>\n    </tr>\n    <tr>\n      <th>31</th>\n      <td>2019.0</td>\n      <td>North America</td>\n      <td>1.0</td>\n    </tr>\n    <tr>\n      <th>32</th>\n      <td>2019.0</td>\n      <td>Not found</td>\n      <td>1.0</td>\n    </tr>\n    <tr>\n      <th>33</th>\n      <td>2019.0</td>\n      <td>Oceania</td>\n      <td>0.0</td>\n    </tr>\n    <tr>\n      <th>34</th>\n      <td>2019.0</td>\n      <td>South America</td>\n      <td>9.0</td>\n    </tr>\n    <tr>\n      <th>35</th>\n      <td>2020.0</td>\n      <td>Asia</td>\n      <td>61.0</td>\n    </tr>\n    <tr>\n      <th>36</th>\n      <td>2020.0</td>\n      <td>Europe</td>\n      <td>126.0</td>\n    </tr>\n    <tr>\n      <th>37</th>\n      <td>2020.0</td>\n      <td>North America</td>\n      <td>14.0</td>\n    </tr>\n    <tr>\n      <th>38</th>\n      <td>2020.0</td>\n      <td>Not found</td>\n      <td>0.0</td>\n    </tr>\n    <tr>\n      <th>39</th>\n      <td>2020.0</td>\n      <td>Oceania</td>\n      <td>1.0</td>\n    </tr>\n    <tr>\n      <th>40</th>\n      <td>2020.0</td>\n      <td>South America</td>\n      <td>1.0</td>\n    </tr>\n  </tbody>\n</table>\n</div>"
     },
     "execution_count": 71,
     "metadata": {},
     "output_type": "execute_result"
    }
   ],
   "source": [
    "df1.add_suffix(\"\").reset_index()"
   ],
   "metadata": {
    "collapsed": false,
    "pycharm": {
     "name": "#%%\n"
    }
   }
  }
 ],
 "metadata": {
  "kernelspec": {
   "display_name": "Python 3",
   "language": "python",
   "name": "python3"
  },
  "language_info": {
   "codemirror_mode": {
    "name": "ipython",
    "version": 2
   },
   "file_extension": ".py",
   "mimetype": "text/x-python",
   "name": "python",
   "nbconvert_exporter": "python",
   "pygments_lexer": "ipython2",
   "version": "2.7.6"
  }
 },
 "nbformat": 4,
 "nbformat_minor": 0
}